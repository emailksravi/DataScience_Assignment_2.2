{
 "cells": [
  {
   "cell_type": "code",
   "execution_count": 116,
   "metadata": {
    "scrolled": true
   },
   "outputs": [
    {
     "name": "stdout",
     "output_type": "stream",
     "text": [
      "*\n",
      "* *\n",
      "* * *\n",
      "* * * *\n",
      "* * * * *\n",
      "* * * *\n",
      "* * *\n",
      "* *\n",
      "*\n"
     ]
    }
   ],
   "source": [
    "\"\"\"\n",
    "Create the below pattern using nested for loop in Python.\n",
    "\n",
    "*\n",
    "* *\n",
    "* * *\n",
    "* * * *\n",
    "* * * * *\n",
    "* * * *\n",
    "* * *\n",
    "* *\n",
    "*\n",
    "\"\"\"\n",
    "\n",
    "# Set variables. Since using range function in for loop\n",
    "# Upper limit is non-inclusive\n",
    "# To calculate MAX = max number of '*' in middle row + 2\n",
    "MIN=2\n",
    "MAX=12\n",
    "AVG=int(MAX/2)\n",
    "\n",
    "for number_of_iter in range(MIN, MAX):\n",
    "\n",
    " # Init row to be printed\n",
    " row_to_print = \"\"\n",
    "\n",
    " if number_of_iter <= AVG:\n",
    "  # For iterations 2,3,4,5 - Enter here\n",
    "  upper_limit = number_of_iter\n",
    " else: \n",
    "  # For iterations 6,7,8,9,10,11 - Enter here\n",
    "  upper_limit = MAX - number_of_iter\n",
    " \n",
    " # use range function: upper_limit is always non-inclusive\n",
    " # Corner cases will get eliminated\n",
    " for loopvar in range(1,upper_limit):\n",
    "   row_to_print = row_to_print + \" \" + \"*\"\n",
    "\n",
    " # Remove preceeding space and nulls during print to console\n",
    " if len(row_to_print.strip()) > 0:\n",
    "  print (row_to_print.strip())\n"
   ]
  },
  {
   "cell_type": "code",
   "execution_count": null,
   "metadata": {
    "collapsed": true
   },
   "outputs": [],
   "source": []
  }
 ],
 "metadata": {
  "kernelspec": {
   "display_name": "Python 3",
   "language": "python",
   "name": "python3"
  },
  "language_info": {
   "codemirror_mode": {
    "name": "ipython",
    "version": 3
   },
   "file_extension": ".py",
   "mimetype": "text/x-python",
   "name": "python",
   "nbconvert_exporter": "python",
   "pygments_lexer": "ipython3",
   "version": "3.6.3"
  }
 },
 "nbformat": 4,
 "nbformat_minor": 2
}
